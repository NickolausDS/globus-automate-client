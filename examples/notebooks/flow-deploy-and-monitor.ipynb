{
 "cells": [
  {
   "cell_type": "code",
   "execution_count": null,
   "metadata": {},
   "outputs": [],
   "source": [
    "import sys\n",
    "import os\n",
    "import time\n",
    "import json\n",
    "sys.path.append(\".\")\n",
    "os.environ['JUPYTER_PATH'] = '.'\n",
    "CLIENT_ID = \"e6c75d97-532a-4c88-b031-8584a319fa3e\"\n",
    "\n",
    "from globus_automate_client import create_action_client, create_flows_client, graphviz_format, state_colors_for_log\n",
    "from ipywidgets import widgets\n",
    "from IPython.display import display, display_svg, clear_output\n",
    "import json\n",
    "import time\n"
   ]
  },
  {
   "cell_type": "markdown",
   "metadata": {},
   "source": [
    "## Important: A Note on Authentication and Authorization\n",
    "\n",
    "* All interactions between users and services with the Globus Automate Platform are governed by use of Authentication and Authorization using the Globus Auth system. \n",
    "* In particular, this means that consent must be given by the user for each interaction taking place on their part, including in this Notebook.\n",
    "* The first time you interact with each service such as the Flow service, and Action, or even a Flow instance, an additional browser window will open for you to Consent to proceeding..\n",
    "* You may close the additional window after completing the Consent."
   ]
  },
  {
   "cell_type": "markdown",
   "metadata": {},
   "source": [
    "# Globus Automate: Flows and Actions\n",
    "\n",
    "## Flow Definition\n",
    "\n",
    "* Flows are composed of *Action* invocations\n",
    "* Each Action invocation reads from and contributes back to the *Flow State* as referenced by the `ResultPath` properties of an Action."
   ]
  },
  {
   "cell_type": "code",
   "execution_count": null,
   "metadata": {},
   "outputs": [],
   "source": [
    "flow_definition = {\n",
    "  \"Comment\": \"Two step transfer from Jupyter\",\n",
    "  \"StartAt\": \"Transfer1\",\n",
    "  \"States\": {\n",
    "    \"Transfer1\": {\n",
    "      \"Comment\": \"Initial Transfer from Campus to DTN in DMZ\",\n",
    "      \"Type\": \"Action\",\n",
    "      \"ActionUrl\": \"https://actions.globus.org/transfer/transfer\",\n",
    "      \"Parameters\": {\n",
    "        \"source_endpoint_id.$\":\"$.source_endpoint\",\n",
    "        \"destination_endpoint_id.$\": \"$.intermediate_endpoint\",\n",
    "        \"transfer_items\": [{\n",
    "          \"source_path.$\": \"$.source_path\",\n",
    "          \"destination_path.$\": \"$.intermediate_path\",\n",
    "          \"recursive\": True\n",
    "        }]\n",
    "      },\n",
    "      \"ResultPath\": \"$.Transfer1Result\",\n",
    "      \"Next\": \"Transfer2\"\n",
    "    },\n",
    "    \"Transfer2\": {\n",
    "      \"Comment\": \"Transfer from DMZ to dataset repository\",\n",
    "      \"Type\": \"Action\",\n",
    "      \"ActionUrl\": \"https://actions.globus.org/transfer/transfer\",\n",
    "      \"Parameters\": {\n",
    "        \"source_endpoint_id.$\": \"$.intermediate_endpoint\",\n",
    "        \"destination_endpoint_id.$\": \"$.destination_endpoint\",\n",
    "        \"transfer_items\": [{\n",
    "          \"source_path.$\": \"$.intermediate_path\",\n",
    "          \"destination_path.$\": \"$.destination_path\",\n",
    "          \"recursive\": True\n",
    "        }]\n",
    "      },\n",
    "      \"ResultPath\": \"$.Transfer2Result\",\n",
    "      \"End\": True\n",
    "    }\n",
    "  }\n",
    "}\n",
    "\n",
    "input_schema = {\n",
    "    \"type\": \"object\",\n",
    "    \"additionalProperties\": False,\n",
    "    \"properties\": {\n",
    "        \"source_endpoint\": { \"type\": \"string\"},\n",
    "        \"source_path\": { \"type\": \"string\"},\n",
    "        \"intermediate_endpoint\": { \"type\": \"string\"},\n",
    "        \"intermediate_path\": { \"type\": \"string\"},\n",
    "        \"destination_endpoint\": { \"type\": \"string\"},\n",
    "        \"destination_path\": { \"type\": \"string\"}\n",
    "    },\n",
    "    \"required\": [ \n",
    "        \"source_endpoint\",\n",
    "        \"source_path\",\n",
    "        \"intermediate_endpoint\",\n",
    "        \"intermediate_path\",\n",
    "        \"destination_endpoint\",\n",
    "        \"destination_path\"\n",
    "    ]\n",
    "}"
   ]
  },
  {
   "cell_type": "markdown",
   "metadata": {},
   "source": [
    "* This flow composes two transfers into a single logical operation\n",
    "  * Suitable, for example, for doing a two stage transfer between a local campus endpoint, a DMZ data transfer endpoint, and a dataset repository.\n",
    "  * Each step in the Flow uses the same Action: Transfer which is referenced by URL\n",
    "  * Source and destination information for the Transfer state are given in `Parameters` and `ResultPath`\n",
    "\n",
    "* The `input_schema` defines, in JSONSchema format, the required input to the Flow. In this case, it is simply a list of string values indicating the source, intermediate, and destination endpoints and paths for the two step Transfer operation.\n",
    "  * When the input schema is provided with a Flow, the Flow service will validate the user's input using the schema prior to running the Flow. Thus, errors which may have resulted due to improper input can be caught before the Flow is run.\n",
    "  * Providing an input schema is not required when defining a Flow, but it is encouraged as it allows validation, and in the future may also provide hints to tools and user interface elements which help users creating proper input for running the Flow.\n",
    "    \n",
    "Next we _deploy_ the Flow so that we can execute below\n"
   ]
  },
  {
   "cell_type": "code",
   "execution_count": null,
   "metadata": {},
   "outputs": [],
   "source": [
    "flows_client = create_flows_client(CLIENT_ID)\n",
    "flow = flows_client.deploy_flow(flow_definition, title=\"Example Two Step Transfer Flow\", input_schema=input_schema)\n",
    "flow_id = flow['id']\n",
    "print(f'Newly created flow with id:\\n{flow_id}')"
   ]
  },
  {
   "cell_type": "markdown",
   "metadata": {},
   "source": [
    "* The newly created flow has an id which we use for referencing it, such as running it later.\n",
    "\n",
    "* We can also use the id to lookup the Flow in the Flows service and get a rough visualization of the Flow's contents."
   ]
  },
  {
   "cell_type": "code",
   "execution_count": null,
   "metadata": {},
   "outputs": [],
   "source": [
    "get_resp = flows_client.get_flow(flow_id)\n",
    "flow_def = get_resp.data['definition']\n",
    "flow_graph = graphviz_format(flow_def)\n",
    "display(flow_graph)"
   ]
  },
  {
   "cell_type": "markdown",
   "metadata": {},
   "source": [
    "* The displayed output represents each Action state as a rectangle and provides the name of the state and the Parameters which will be used when it is run.\n",
    "  * The Parameters reference the input shown below, and the required values are specific to the particular Action, Transfer, being run in the Action state.\n",
    "  \n",
    "* We prepare the Input and run the Flow below.\n",
    "  * As defined here, the following need to be prepared using Globus Transfer:\n",
    "    * On the endpoint 'go#ep1' a folder called `campus_source` containing a child folder called `dataset1`\n",
    "      * A small data file may be placed in the `dataset1` folder to show data movement.\n",
    "    * On the endpoint 'go#ep2' a folder called `campus_source`\n",
    "    * On the endpoint 'go#ep1' a folder called `dataset_repository`\n",
    "* We run the flow and monitor the Flow's execution\n",
    "* Periodically, we poll to get the progress of the execution and represent the progress with a colored representation of the same flow visualization shown above.\n",
    "  * Yellow or Orange represent states which are running or have not run yet\n",
    "  * Green represents completed states\n",
    "  * Upon completion, all details of the execution are displayed below the visualization."
   ]
  },
  {
   "cell_type": "code",
   "execution_count": null,
   "metadata": {
    "scrolled": false
   },
   "outputs": [],
   "source": [
    "flow_input = {\n",
    "  \"source_endpoint\": \"go#ep1\",\n",
    "  \"source_path\": \"/~/campus_source/dataset1/\",\n",
    "  \"intermediate_endpoint\": \"go#ep2\",\n",
    "  \"intermediate_path\": \"/~/campus_source/dataset1/\",\n",
    "  \"destination_endpoint\": \"go#ep1\",\n",
    "  \"destination_path\": \"/~/dataset_repository/dataset1\",\n",
    "}\n",
    "\n",
    "action_id = ''\n",
    "run_resp = flows_client.run_flow(flow_id, None, flow_input)\n",
    "action_id = run_resp.data['action_id']\n",
    "print(f'action_id: {action_id}')\n",
    "while(True):\n",
    "    status_resp  = flows_client.flow_action_status(flow_id, None, action_id)\n",
    "    log_resp = flows_client.flow_action_log(flow_id, None, action_id, limit=100)\n",
    "    state_colors = state_colors_for_log(log_resp.data['entries'])\n",
    "    run_graph = graphviz_format(flow_def, state_colors)\n",
    "    print(f'Action {action_id} is in state {status_resp.data[\"status\"]} at time {time.ctime()}')\n",
    "    display(run_graph)\n",
    "    if status_resp.data['status'] in ('SUCCEEDED', 'FAILED'):\n",
    "        break\n",
    "    print(f'Recent state details: {status_resp[\"details\"]}')\n",
    "    time.sleep(5)\n",
    "    clear_output(wait=True)\n",
    "print(f\"Final Result: {json.dumps(status_resp['details'], indent=2)}\")"
   ]
  },
  {
   "cell_type": "code",
   "execution_count": null,
   "metadata": {},
   "outputs": [],
   "source": []
  }
 ],
 "metadata": {
  "celltoolbar": "Attachments",
  "kernelspec": {
   "display_name": "Python 3",
   "language": "python",
   "name": "python3"
  },
  "language_info": {
   "codemirror_mode": {
    "name": "ipython",
    "version": 3
   },
   "file_extension": ".py",
   "mimetype": "text/x-python",
   "name": "python",
   "nbconvert_exporter": "python",
   "pygments_lexer": "ipython3",
   "version": "3.8.5"
  }
 },
 "nbformat": 4,
 "nbformat_minor": 2
}
