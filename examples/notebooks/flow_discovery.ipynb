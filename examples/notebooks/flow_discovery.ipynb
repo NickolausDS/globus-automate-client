{
 "cells": [
  {
   "cell_type": "code",
   "execution_count": 1,
   "metadata": {},
   "outputs": [],
   "source": [
    "from ipywidgets import widgets\n",
    "from IPython.display import display, display_svg, clear_output\n",
    "from globus_automate_client import create_flows_client, graphviz_format, state_colors_for_log\n",
    "import json\n",
    "import time\n",
    "\n",
    "CLIENT_ID = \"e6c75d97-532a-4c88-b031-8584a319fa3e\"\n",
    "fc = create_flows_client(CLIENT_ID)"
   ]
  },
  {
   "cell_type": "code",
   "execution_count": 2,
   "metadata": {
    "tags": []
   },
   "outputs": [
    {
     "output_type": "stream",
     "name": "stdout",
     "text": "Flow id: 06605825-9d12-4c98-8364-c0dd685d5cca, Flow title: Deployed via SDK\nFlow id: 0a9a7296-f9ea-4a8a-9eb3-f95cf3e98edc, Flow title: Hello World Flow\nFlow id: 0cd381f8-8abe-4189-8c4c-64ba9e6f98f6, Flow title: My Flow\nFlow id: 11ba67a0-c5a5-491d-9a8a-766e4b0ba036, Flow title: Deployed via SDK\nFlow id: 144b8f47-8ff8-40ea-8878-bbc0f71b8052, Flow title: My Flow\nFlow id: 160e3141-03d7-4ba7-8231-c4c84514e6cd, Flow title: Deployed via SDK\nFlow id: 1beb2248-77de-431f-acc2-0ff9b1882446, Flow title: My Flow\nFlow id: 1dda16d4-9f0d-4239-8c5c-3210eedf82a0, Flow title: Deployed via SDK\nFlow id: 1e6b4406-ee3d-4bc5-9198-74128e108111, Flow title: Hello World Flow\nFlow id: 2d14922c-7cdb-429c-90d9-a42fb9632897, Flow title: Hello World\nFlow id: 36039181-85de-4737-85a4-9bb28773f1a9, Flow title: Deployed via SDK\nFlow id: 3e174e4c-094d-4f88-ae8d-a6db94b77832, Flow title: My Flow\nFlow id: 49698e03-84af-4e3c-8d8e-a0db7c9c6f34, Flow title: Hello World Flow\nFlow id: 49ee5587-cfe7-45a5-a202-f536e79c04f9, Flow title: My Flow\nFlow id: 4a5f0361-b384-4ff4-be5e-6ded9b9b20aa, Flow title: My Flow\nFlow id: 4de1b06b-fdd5-48bb-90a7-dd63a1c1c8da, Flow title: Deployed via SDK\nFlow id: 5024e816-6f9b-472c-a3f3-84218167cd0c, Flow title: My Flow\nFlow id: 546eb8e7-2ba2-43a7-ad93-b4fc8ae81043, Flow title: My Flow\nFlow id: 5550a567-389a-4eb2-972c-3f58c80fc337, Flow title: Hello World Flow\nFlow id: 63440ed5-3fdf-4e00-ab78-ce8eecfcbb75, Flow title: Hello World Flow\n"
    }
   ],
   "source": [
    "flows_resp = fc.list_flows()\n",
    "for flow in flows_resp.data['flows']:\n",
    "    print(f'Flow id: {flow[\"id\"]}, Flow title: {flow[\"title\"]}')\n",
    "flows = {flow['id']:flow['title'] for flow in flows_resp.data['flows']}"
   ]
  },
  {
   "cell_type": "code",
   "execution_count": null,
   "metadata": {},
   "outputs": [],
   "source": [
    "# Select an id from one of the flows above to continue exploring and running\n",
    "flow_id = '830b860b-e98b-4186-8185-8f60d6bf25fb'"
   ]
  },
  {
   "cell_type": "code",
   "execution_count": null,
   "metadata": {},
   "outputs": [],
   "source": [
    "get_resp = fc.get_flow(flow_id)\n",
    "flow_def = get_resp.data['definition']\n",
    "flow_graph = graphviz_format(flow_def)\n",
    "display(flow_graph)"
   ]
  },
  {
   "cell_type": "code",
   "execution_count": null,
   "metadata": {},
   "outputs": [],
   "source": [
    "\n",
    "text = widgets.Textarea(placeholder='Enter JSON formatted input for to the Flow', \n",
    "                        layout={'height': '100%', 'width': '500px'})\n",
    "button = widgets.Button(description='Click to Run Flow')\n",
    "items = [text, button]\n",
    "box = widgets.HBox(items, layout={'height': '300px'})\n",
    "display(box)\n",
    "action_id = ''\n",
    "\n",
    "def on_input(sender):\n",
    "    input_val = text.value\n",
    "    flow_input = json.loads(input_val)\n",
    "    run_resp = fc.run_flow(flow_id, None, flow_input)\n",
    "    global action_id\n",
    "    action_id = run_resp.data['action_id']\n",
    "    print(f'action_id: {action_id}')\n",
    "    \n",
    "button.on_click(on_input)"
   ]
  },
  {
   "cell_type": "code",
   "execution_count": null,
   "metadata": {},
   "outputs": [],
   "source": [
    "while(True):\n",
    "    status_resp  = fc.flow_action_status(flow_id, None, action_id)\n",
    "    log_resp = fc.flow_action_log(flow_id, None, action_id, limit=100)\n",
    "    state_colors = state_colors_for_log(log_resp.data['entries'])\n",
    "    run_graph = graphviz_format(flow_def, state_colors)\n",
    "    print(f'Action {action_id} is in state {status_resp.data[\"status\"]} at time {time.ctime()}')\n",
    "    display(run_graph)\n",
    "    if status_resp.data['status'] in ('SUCCEEDED'):\n",
    "        break\n",
    "    time.sleep(5)\n",
    "    clear_output(wait=True)"
   ]
  },
  {
   "cell_type": "code",
   "execution_count": null,
   "metadata": {},
   "outputs": [],
   "source": []
  }
 ],
 "metadata": {
  "kernelspec": {
   "display_name": "Python 3",
   "language": "python",
   "name": "python3"
  },
  "language_info": {
   "codemirror_mode": {
    "name": "ipython",
    "version": 3
   },
   "file_extension": ".py",
   "mimetype": "text/x-python",
   "name": "python",
   "nbconvert_exporter": "python",
   "pygments_lexer": "ipython3",
   "version": "3.6.8"
  }
 },
 "nbformat": 4,
 "nbformat_minor": 2
}