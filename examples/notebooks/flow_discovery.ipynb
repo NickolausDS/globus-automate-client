{
 "cells": [
  {
   "cell_type": "code",
   "execution_count": null,
   "metadata": {},
   "outputs": [],
   "source": [
    "from ipywidgets import widgets\n",
    "from IPython.display import display, display_svg, clear_output\n",
    "from globus_automate_client import (\n",
    "    create_flows_client,\n",
    "    graphviz_format,\n",
    "    state_colors_for_log,\n",
    ")\n",
    "import json\n",
    "import time\n",
    "\n",
    "CLIENT_ID = \"e6c75d97-532a-4c88-b031-8584a319fa3e\"\n",
    "fc = create_flows_client(CLIENT_ID)"
   ]
  },
  {
   "cell_type": "code",
   "execution_count": null,
   "metadata": {
    "tags": []
   },
   "outputs": [],
   "source": [
    "flows_resp = fc.list_flows()\n",
    "for flow in flows_resp.data[\"flows\"]:\n",
    "    print(f'Flow id: {flow[\"id\"]}, Flow title: {flow[\"title\"]}')\n",
    "flows = {flow[\"id\"]: flow[\"title\"] for flow in flows_resp.data[\"flows\"]}"
   ]
  },
  {
   "cell_type": "code",
   "execution_count": null,
   "metadata": {},
   "outputs": [],
   "source": [
    "# Select an id from one of the flows above to continue exploring and running\n",
    "flow_id = \"c394ecda-c510-4f08-9096-aca7790282a5\""
   ]
  },
  {
   "cell_type": "code",
   "execution_count": null,
   "metadata": {},
   "outputs": [],
   "source": [
    "get_resp = fc.get_flow(flow_id)\n",
    "flow_def = get_resp.data[\"definition\"]\n",
    "flow_graph = graphviz_format(flow_def)\n",
    "display(flow_graph)"
   ]
  },
  {
   "cell_type": "code",
   "execution_count": null,
   "metadata": {},
   "outputs": [],
   "source": [
    "text = widgets.Textarea(\n",
    "    placeholder=\"Enter JSON formatted input for to the Flow\",\n",
    "    layout={\"height\": \"100%\", \"width\": \"500px\"},\n",
    ")\n",
    "button = widgets.Button(description=\"Click to Run Flow\")\n",
    "items = [text, button]\n",
    "box = widgets.HBox(items, layout={\"height\": \"300px\"})\n",
    "display(box)\n",
    "action_id = \"\"\n",
    "\n",
    "\n",
    "def on_input(sender):\n",
    "    input_val = text.value\n",
    "    flow_input = json.loads(input_val)\n",
    "    run_resp = fc.run_flow(flow_id, None, flow_input)\n",
    "    global action_id\n",
    "    action_id = run_resp.data[\"action_id\"]\n",
    "    print(f\"action_id: {action_id}\")\n",
    "\n",
    "\n",
    "button.on_click(on_input)"
   ]
  },
  {
   "cell_type": "code",
   "execution_count": null,
   "metadata": {},
   "outputs": [],
   "source": [
    "while True:\n",
    "    status_resp = fc.flow_action_status(flow_id, None, action_id)\n",
    "    log_resp = fc.flow_action_log(flow_id, None, action_id, limit=100)\n",
    "    state_colors = state_colors_for_log(log_resp.data[\"entries\"])\n",
    "    run_graph = graphviz_format(flow_def, state_colors)\n",
    "    print(\n",
    "        f'Action {action_id} is in state {status_resp.data[\"status\"]} at time {time.ctime()}'\n",
    "    )\n",
    "    display(run_graph)\n",
    "    if status_resp.data[\"status\"] in (\"SUCCEEDED\"):\n",
    "        break\n",
    "    time.sleep(5)\n",
    "    clear_output(wait=True)"
   ]
  },
  {
   "cell_type": "code",
   "execution_count": null,
   "metadata": {},
   "outputs": [],
   "source": []
  }
 ],
 "metadata": {
  "kernelspec": {
   "display_name": "Python 3",
   "language": "python",
   "name": "python3"
  },
  "language_info": {
   "codemirror_mode": {
    "name": "ipython",
    "version": 3
   },
   "file_extension": ".py",
   "mimetype": "text/x-python",
   "name": "python",
   "nbconvert_exporter": "python",
   "pygments_lexer": "ipython3",
   "version": "3.8.5"
  }
 },
 "nbformat": 4,
 "nbformat_minor": 2
}
